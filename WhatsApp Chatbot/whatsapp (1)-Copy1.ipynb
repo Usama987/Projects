{
 "cells": [
  {
   "cell_type": "code",
   "execution_count": 1,
   "metadata": {},
   "outputs": [],
   "source": [
    "from selenium import webdriver\n",
    "from selenium.webdriver import Chrome\n",
    "from selenium.webdriver.common.by import By\n",
    "from predict import chatbot_response\n",
    "import random\n",
    "import time"
   ]
  },
  {
   "cell_type": "code",
   "execution_count": 2,
   "metadata": {},
   "outputs": [],
   "source": [
    "driver = Chrome('C:/Program Files (x86)/chromedriver.exe')\n",
    "driver.get('https://web.whatsapp.com/')"
   ]
  },
  {
   "cell_type": "code",
   "execution_count": null,
   "metadata": {},
   "outputs": [],
   "source": [
    "while(True):\n",
    "    unread = driver.find_elements(By.CLASS_NAME,'VOr2j')\n",
    "    for i in unread:\n",
    "        i.click()\n",
    "        inpu = driver.find_elements(By.CLASS_NAME,'message-in')[-1].text.split(\"\\n\")[0]\n",
    "        driver.find_elements(By.CLASS_NAME,'selectable-text')[-1].send_keys(chatbot_response(inpu))\n",
    "        driver.find_elements(By.CLASS_NAME,'_2Ujuu')[0].click()\n",
    "        x = -3\n",
    "        driver.find_elements(By.CLASS_NAME,\"_1C6Zl\")[x].click()"
   ]
  },
  {
   "cell_type": "code",
   "execution_count": 4,
   "metadata": {},
   "outputs": [],
   "source": [
    "group_name = \"Ather Class\"\n",
    "message = \"n\""
   ]
  },
  {
   "cell_type": "code",
   "execution_count": 5,
   "metadata": {},
   "outputs": [],
   "source": [
    "def fn_send_message(group_name,message):\n",
    "    group_names = driver.find_elements(By.CLASS_NAME,\"_1hI5g\")\n",
    "    driver.find_elements(By.CLASS_NAME,'_1awRl')[0].send_keys(group_name)\n",
    "    driver.find_elements(By.CLASS_NAME,'_1awRl')[0].click()\n",
    "    time.sleep(1)\n",
    "    group_names = driver.find_elements(By.CLASS_NAME,\"_1hI5g\")\n",
    "    name  = \"\"\n",
    "    for i in range(len(group_names)):\n",
    "        if group_names[i].text==group_name:\n",
    "            name = group_names[i]\n",
    "            print(name)\n",
    "            name.click()\n",
    "            driver.find_elements(By.CLASS_NAME,'selectable-text')[-1].send_keys(message)\n",
    "            driver.find_elements(By.CLASS_NAME,'_2Ujuu')[0].click()\n",
    "            break\n",
    "    \n",
    "        "
   ]
  },
  {
   "cell_type": "code",
   "execution_count": 11,
   "metadata": {},
   "outputs": [],
   "source": [
    "sendees = [\"Junaid Internship\",\"Usama Bhai\",\"Mannan\",\"Ather Class\"]\n",
    "messages = [\"Assalamualaikum\",\"Automate\",\"biyz this my bot\",\"haala walla habibi haza botuka\"]"
   ]
  },
  {
   "cell_type": "code",
   "execution_count": 12,
   "metadata": {
    "collapsed": true
   },
   "outputs": [
    {
     "name": "stdout",
     "output_type": "stream",
     "text": [
      "<selenium.webdriver.remote.webelement.WebElement (session=\"8eb38f635ecaa7e72a5c788c289ba683\", element=\"f888b121-0bca-40ba-a020-0fd7df7263b2\")>\n",
      "<selenium.webdriver.remote.webelement.WebElement (session=\"8eb38f635ecaa7e72a5c788c289ba683\", element=\"8245d6c1-882e-4072-93c0-d242709ea7e8\")>\n",
      "<selenium.webdriver.remote.webelement.WebElement (session=\"8eb38f635ecaa7e72a5c788c289ba683\", element=\"6d4de4af-7168-4e8e-8136-e623ae0559ab\")>\n",
      "<selenium.webdriver.remote.webelement.WebElement (session=\"8eb38f635ecaa7e72a5c788c289ba683\", element=\"769a80fe-b55b-4707-8e31-1f9537c6b30a\")>\n"
     ]
    }
   ],
   "source": [
    "for each,message in zip(sendees,messages):\n",
    "    fn_send_message(each,message)"
   ]
  },
  {
   "cell_type": "code",
   "execution_count": null,
   "metadata": {},
   "outputs": [],
   "source": []
  }
 ],
 "metadata": {
  "kernelspec": {
   "display_name": "Python 3",
   "language": "python",
   "name": "python3"
  },
  "language_info": {
   "codemirror_mode": {
    "name": "ipython",
    "version": 3
   },
   "file_extension": ".py",
   "mimetype": "text/x-python",
   "name": "python",
   "nbconvert_exporter": "python",
   "pygments_lexer": "ipython3",
   "version": "3.6.5"
  }
 },
 "nbformat": 4,
 "nbformat_minor": 4
}
